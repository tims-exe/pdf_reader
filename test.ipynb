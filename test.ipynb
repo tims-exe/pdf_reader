{
 "cells": [
  {
   "cell_type": "code",
   "execution_count": 13,
   "metadata": {},
   "outputs": [],
   "source": [
    "MODEL = \"gemma2:2b\""
   ]
  },
  {
   "cell_type": "code",
   "execution_count": 19,
   "metadata": {},
   "outputs": [],
   "source": [
    "from langchain_community.llms import Ollama\n",
    "from langchain_community.embeddings import OllamaEmbeddings\n",
    "\n",
    "model = Ollama(model=MODEL)\n",
    "embeddings = OllamaEmbeddings(model=MODEL)"
   ]
  },
  {
   "cell_type": "code",
   "execution_count": 20,
   "metadata": {},
   "outputs": [
    {
     "name": "stderr",
     "output_type": "stream",
     "text": [
      "DEBUG:urllib3.connectionpool:Starting new HTTP connection (1): localhost:11434\n",
      "DEBUG:urllib3.connectionpool:http://localhost:11434 \"POST /api/generate HTTP/11\" 200 None\n"
     ]
    },
    {
     "data": {
      "text/plain": [
       "\"Why don't scientists trust atoms? \\n\\nBecause they make up everything! 😉 \\n\\n\\nLet me know if you want to hear another one! 😄 \\n\""
      ]
     },
     "execution_count": 20,
     "metadata": {},
     "output_type": "execute_result"
    }
   ],
   "source": [
    "from langchain_core.output_parsers import StrOutputParser\n",
    "\n",
    "parser = StrOutputParser()\n",
    "\n",
    "chain = model | parser\n",
    "chain.invoke(\"Tell me a joke\")"
   ]
  },
  {
   "cell_type": "code",
   "execution_count": 21,
   "metadata": {},
   "outputs": [
    {
     "data": {
      "text/plain": [
       "[Document(metadata={'source': 'data/dm1.pdf', 'page': 0}, page_content='MODULE  1 \\nSYSTEMS  OF EARTH  AND  KEY  TERMS  IN DISASTER  \\nMANAGEMENT  \\n \\n \\n \\nSYLLABUS:  \\nSystems of earth: Lithosphere - composition, rocks, soils; Atmosphere -layers, ozone layer, greenhouse \\neffect, weather, cyclones, atmospheric circulations, Indian Monsoon; hydrosphere Oceans, inland water \\nbodies; biosphere.  \\n \\nDefinition and meaning of key terms in Disaster Risk Reduction and Management - disaster, hazard, \\nexposure, vulnerability, risk, risk assessment, risk mapping, capacity, resilience, disaster risk reduction, \\ndisaster risk management, early warning systems, disaster preparedness, disaster prevention, disaster \\nmitigation, disaster response, damage assessment, crisis counselling, needs assessment.'),\n",
       " Document(metadata={'source': 'data/dm1.pdf', 'page': 1}, page_content='DISASTER  MANAGEMENT  \\n \\n \\nDisaster management refers to the conservation of lives and property  during natural or human -made \\ndisasters . Disaster management plans are multi -layered  and are planned to address issues such as floods, \\nhurricanes,  fires,  mass  failure  of utilities,  rapid  spread  of disease  and droughts . Disaster  management  can \\nbe of either natural disasters  or man-made disasters . \\n \\n \\nLITHOSPHERE  \\n \\n \\nEarth has four concentric zones . The innermost  zone is the ’Inner core.  This zone is a solid mass of iron  \\nwhich has a radius of about 1,216 km , covering the inner core is the outer core . This is a layer of molten \\nliquid  containing  nickel  and iron. It is about  2,270  km thick . The outer  core is covered  by solid  ’Mantle’ , \\nwhich  is about  2,900  km thick . The outermost  hardened  exterior  zone  is known  as Crust . The crust  varies \\nin thickness from about 5 km . The crust and the mantle  which is hard and brittle is lithosphere  \\n \\nFig 1: Structure  of the earth  and Lithosphere  \\n \\n \\nLithosphere  is the outer layer (oceanic and continental) of earth that includes the crust and solid part of \\nthe mantle.  Lithosphere interacts  with atmosphere, hydrosphere and biosphere  and forms Pedosphere . \\nPedosphere  has both biotic and abiotic components . \\n \\nThere  are two types of  Lithospheres:  \\n \\n \\n1. The oceanic  lithosphere  which  is about  5 km to 8 km thick  composed  of basalt . \\n2. The continental  lithosphere  which is  30 km to 40 km thick.'),\n",
       " Document(metadata={'source': 'data/dm1.pdf', 'page': 2}, page_content='Earth  has seven  major  plates , which  includes  Africa.  Antarctica,  Australia,  Eurasia,  North  America,  South \\nAmerica and Pacifica,  and a number  of minor ones . A few important  minor plates  include Adria.  Arabia. \\nCaribbean. Nazca, Philippines, etc. These plates are composed of oceanic and continental lithosphere . \\nThey  move  independently  over the mantle  relative  to one another,  below  the outer  rigid  lithosphere.  This \\narea known  as asthenosphere  is about  100 km to 200 km thick , they move  with at restricted  independence \\nfrom the seven large plates.  \\n \\nThe plates periodically reorganize  themselves with new plate boundaries being formed , while certain \\nothers closing up. In addition to these movements, the plates also change in shape.  The plates have three \\ndifferent motions:  \\n1. They  are Moving  apart , thereby  creating  divergent  boundaries  \\n2. Gliding  horizontally  along  each other,  thereby  creating  wrench and  transform  boundaries  \\n3. Moving  towards  one another , and creating  convergent  boundaries  \\n \\n \\nComposition  of Lithosphere  \\n \\nThe lithosphere contains minerals, rocks and soil.  It has more than 100 chemical elements  and most of \\nthem are rare. More than  99 percentage  of the volume includes elements like oxygen, silicon, aluminum, \\niron, calcium, sodium, potassium and magnesium . Only a few elements  are present in pure forms  in the \\nearth’s  crust  called  native  elements , they include  copper,  gold,  lead,  mercury,  nickel,  platinum  and silver . \\nThese elements contained in ores are found  in different combinations as minerals . Minerals  are naturally \\noccurring, inorganic, crystalline solids  that have definite chemical compositions. Certain minerals are \\ncomposed of single element. For instance, diamond and graphite composed of only carbon . Below table \\nshows elements present in earth crust.'),\n",
       " Document(metadata={'source': 'data/dm1.pdf', 'page': 3}, page_content='ROCKS  \\n \\n \\nLithosphere has various types of rocks. Rocks are naturally occurring hard  and consolidated inorganic \\nmaterials , composed  of one or a large  number  of minerals . Certain  other  materials,  like coal and limestone \\nare developed from plant and animal remains.  \\n \\nThere  are various  types  of rocks.  They are: \\n \\n \\n1. Igneous  Rocks  \\n2. Sedimentary  Rocks  \\n3. Metamorphic  Rocks  \\n \\n \\nIgneous  Rocks  \\n \\n \\nThese  rocks  are formed  by solidification  of magma  in the interior,  or lava on the surface  of earth . Igneous \\nrocks  are composed  of primary  minerals , which  are predominantly  silicates . They  sometimes  overlap  with \\nsedimentary and metamorphic rocks.  \\n \\nSedimentary  Rocks  \\n \\n \\nSedimentary  rocks  are formed  by the precipitation  from  solutions , and consolidation  of remnants  of biotic \\ncomponents like plants and animals . These rocks contain both original primary  minerals  (Quartz, Mica ) \\nand altered as well as newly synthesized secondary  minerals  (Clay, calcite, gypsum ). \\n \\nMetamorphic  Rocks  \\n \\n \\nAlso  known  as Thermal  rocks  as they are formed  from  pre-existing  rocks  (igneous  or sedimentary)  due to \\nchange in the temperature and pressure in solid state  is known as metamorphic rocks. These rocks are \\nformed  when  magma  intrudes  through  pre-existing  igneous  or sedimentary  rocks.  All types  of pre-existing \\nrocks  could undergo metamorphism . Further, igneous and metamorphic rocks get weathered and form \\nsediments . These sediments  get deposited and lithified into sedimentary rocks'),\n",
       " Document(metadata={'source': 'data/dm1.pdf', 'page': 4}, page_content='SOIL  \\n \\nSoil is the surface layer of the land.  It is a natural body  that contains a variable mixture of broken and \\nweathered materials and decaying organic matter,  which covers the earth in a thin layer. It takes long \\nperiod of time for the soil to form  through the natural process. The formation takes place from the \\nweathering and decomposition of rocks and minerals . Soil is a dynamic layer  of earth’s crust which is \\nconstantly  changing  and developing . The upper  limit  of soil is air or water  and its lateral  margins  grade  to \\ndeep water or barren areas of rock or even ice.  \\n \\nSoil accomplishes  various  functions,  which  include  the following:  \\n1. It provides  mechanical  support  to the plant . \\n2. It has the ability  of holding  water  as it has the property  of porosity . This ability  makes  soil a \\nreservoir of water  \\n3. Soil provides  micro  and macro  nutrients , as well as ideal  pH required  for the growth  of the micro - \\norganisms, plants and animals.  \\n4. Soil prevents  excessive  leaching  of nutrients . \\n5. Soil houses  bacteria  that fix nitrogen  and other  elements ; fungi,  protozoa  and other  micro - \\norganisms. These organisms’ aids in the decomposition of organic matte r. \\n \\nDifferent  types  of soil are given  below:'),\n",
       " Document(metadata={'source': 'data/dm1.pdf', 'page': 5}, page_content='LAYERS  OF ATMOSPHERE  \\n \\n \\nAtmosphere is the various gases  that encircle the earth. The gases contained in the atmosphere include \\nnitrogen, oxygen, argon, carbon dioxide, neon,  etc., The below table shows the composition of gases \\npresent in the atmosphere.'),\n",
       " Document(metadata={'source': 'data/dm1.pdf', 'page': 6}, page_content='Atmosphere  contains  water  vapor , certain  other  fine materials  like soot,  dust of rock and soil, sores,  pollens  \\nand salt grains  from  sea water.  The atmosphere  is divided  in to a number  of concentric  layers  that extend \\nfrom sea level to outer space. Atmosphere is classified in to various types as shown below:  \\n \\nBased  on chemical  composition  atmosphere  is divided  in to two. \\n1. Homosphere  \\nHomosphere  Extends  to a distance  of about 88Km from  the surface of  earth. It consists of \\ngases  like nitrogen, oxygen, argon and carbon dioxide . This layer is homogeneous  in \\ncomposition.  \\n2. Heterosphere  \\nThe atmosphere lies above homosphere  is heterosphere. The air composition is not \\nuniform.  The lower  most  layer  have  the heaviest  molecules  and upper  layer  has the lightest \\nelements . Based on the gases  present, heterosphere is further divided to four.  \\n \\na. Molecular  Nitrogen  Layer (88Km -200Km)  \\nb. Oxygen  Layer  (200Km -1125Km)  \\nc. Helium  Layer  (1125Km -3540Km)  \\nd. Hydrogen  Layer  (3540Km -9660Km)  \\n \\n \\nBased  on the temperature , the atmosphere  is divided  into four parts.  \\n1. Troposphere  \\nThe bottom dense part , containing 70 percent of the mass, close to the ground  is troposphere. It \\nreaches  up to 11 km from  the ground . Clouds,  storms,  fog and haze are found  only in troposphere. \\nThe temperature  in this layer decreases at about -6.4°C/km  with height. This decrease of'),\n",
       " Document(metadata={'source': 'data/dm1.pdf', 'page': 7}, page_content='temperature with altitude is called lapse rate.  The border  of troposphere is called Tropopause . \\nTropopause acts like a lid over  troposphere. Temperature stops decreasing with height from \\ntropopause.  \\n \\n2. Stratosphere  \\nStratosphere  is a clear  layer  above  troposphere  that extends  to a height  of about  50 km from  earth’s \\nsurface . This layer  does not have  clouds,  storms  or dust.  Clouds  are not formed  since  water  vapors \\nare absent  in these regions. Ozonosphere is  an important layer found within stratosphere. Ozone \\nlayer  is found in this layer. Ozone absorbs and prevents the harmful ultraviolet radiations  from \\nreaching earth, thereby protect the life on earth. The maximum concentration of ozone occurs at \\n22 km from the ground level. Above the stratosphere, there is a small layer called stratopause  \\nwhere temperature neither increases nor decreases with height.  \\n \\n3. Mesosphere  \\nThe portion of the atmosphere above stratosphere , between 50 km and 80 km  is known as \\nmesosphere . It starts from the edge of Stratopause . Though the temperature in mesosphere near \\nstratosphere is higher by about 10 °, it falls to -75°C at 80 km. The density of air at this height is \\nabout 1/1000 as that of sea level. Mesosphere plays a crucial role in radio communication  as \\nionisation  occurs here. The sunlight passing through this layer converts individual molecules to \\ncharged ions.  These ionised particles  are concentrated as a zone  in this layer, which is named D - \\nlayer . The D-layer reflects radio waves  transmitted from earth. Just above the mesosphere is a \\nsmall layer called Mesopause , where temperature is stable . \\n \\n4. Thermosphere  \\nThermosphere  extends  from  80 km to about  60,000  km from  earth.  Here  the temperature  increases \\nto about 2000°C . The property of thermosphere is radically different from the others. Ions are \\nabundant  in thermosphere. In thermosphere that most of the approaching meteoroids burn up \\nbefore reaching earth.  \\n \\n5. Exosphere  \\nThe region beyond thermosphere  is called exosphere. It consists of only hydrogen and helium \\natoms . This region has very high temperature due to solar radiation .'),\n",
       " Document(metadata={'source': 'data/dm1.pdf', 'page': 8}, page_content='Base  on the chemical  reaction  atmosphere  is classifies  in to two. \\n \\n \\n1. Chemosphere  \\nA region  of the upper  atmosphere  between  altitudes of  40 and 80 km in which  chemical  processes  driven \\nby sunlight are significant.  The chemosphere overlaps  the upper stratosphere and the mesosphere  \\n \\n2. Ozonosphere  \\nIn this region  intense  chemical  reaction  takes  place  with the help of oxygen . Ozone  layer  is present  in this \\nregion.  \\n \\n \\nOZONE  LAYER  \\n \\nOzonosphere  is an important  layer  found  within  stratosphere . Ozone  is found  in this layer . Ozone  absorbs \\nand prevents  the harmful  ultraviolet  radiations  from  reaching  earth,  thereby  protecting  life. Without  Ozone \\nlayer, life would not have been possible  on earth. The maximum concentration  of ozone occurs at 22 km \\nfrom the ground level.  \\n \\nDepletion  of ozone  layer  \\n \\nDue to human  activities  ozone  layer  is becoming  thin. The thinning  of this layer  is called  ozone  depletion . \\nThe ozone  layer  is located  in the lower  part of the stratosphere  between  15 km and 35 km. Concentration  \\nof ozone is the maximum  at about 25-30 km . The level of ozone  is maintained  at this level by Ozone - \\nOxygen Cycle.  When ultra-violet radiation  that spread out from  the sun strikes the oxygen molecule , it \\nsplits  the molecule into two individual  oxygen atoms . The oxygen atoms, thus produced, combines  with \\nOxygen ( 𝑂2) molecule  and produce ozone molecule ( 𝑂3). This reaction  is aided  by either Nitrogen  or \\nOxygen , which  absorbs  the excess  energy  that is liberated.  Ozone  thus formed  will be split by ultra-violet \\nrays into a molecule of oxygen  and an atom of oxygen (O).  It is through this repeated  circular ozone and \\noxygen formation that the concentration of ozone is maintained  in the stratosphere. The concentration of \\nozone in the atmosphere is determined by the rate of its formation and destruction  in the above manner. \\nDue to severe depletion of ozone  in the atmosphere ’ozone holes’  are created. Ozone holes, which were \\ndiscovered  in 1985,  are overhead  areas  having  less than 220 Dobson  Units  (DU).  The chemistry  of ozone \\ndepletion by CFCS, BFCS  and Nitric oxides  are now discussed.'),\n",
       " Document(metadata={'source': 'data/dm1.pdf', 'page': 9}, page_content='Depletion  by CFCs  and  BFCs  \\n \\n \\nCFCS and BFCS are stable compounds in the atmosphere that have the property of living longer  (50 to \\n100 years).  Due to their long life, they rise up to the stratosphere . Through  the action  of UV radiation  from \\nthe Sun on these compounds, Chlorine  (Cl) and Bromine  (Br) radicals are released . These radicals act as \\ncatalysts , and initiate  breaking  down  of ozone  molecules . It is estimated  that a single  such radical  of either \\nCl or Br is capable  of breaking  down  over a lakh of ozone  molecules . Due action,  Ozone  concentration  is \\ndecreasing  at a drastic  rate of four percent per decade. As a result of the inherent long life of CFCs and \\nBFCs, they continue to deplete ozone layer  in a recurrent manner.  \\n \\nDepletion  by Nitric  Oxide   \\n \\n \\nOne molecule  of nitric  oxide  (NO)  combines  with ozone;  it gets oxidised  to nitrogen  dioxide  and Oxygen. \\nThis NO2  combines  with another  O3 molecule  to become  NO3  (Nitrate ) and O2. The NO2  and NO3  then \\ncombine to form N2O5 (Dinitrogen pentoxide).  Even the atomic oxygen(O) readily combines with NO2 \\nto yield NO3. Due to this series of actions  and reactions, ozone is completely utilised , and thereby \\ndepleted . Large quantities of nitrogen are emitted by aircrafts that community decided to withdraw the \\noperation of jet aircrafts that emit oxides of nitrogen. This step has also helped in reducing the depletion \\nof ozone to a very large extent near stratosphere.  \\n \\n \\n \\nGREEN  HOUSE  EFFECT  \\n \\n \\nCertain physical processes  that take place in the troposphere  are responsible for the weather and climate  \\nof that particular  place.  To understand  clearly  about  the process  of greenhouse  effect,  it is needed  to know \\nabout Incoming solar radiation and the outgoing radiation . \\n \\nIncoming  Solar  Radiation  \\n \\n \\nAtmosphere  behaves like a complex mega heat engine . A large number of processes  like air movements \\n(storms  and cyclones ), evaporation  and formation of clouds , precipitation , etc. take place in the \\natmosphere. Only two in a billionth  of the solar energy reaches Earth , of which only a small portion  is \\nresponsible  for the physical  and biological  processes . Solar  radiation  contains  X-rays,  gamma  rays,'),\n",
       " Document(metadata={'source': 'data/dm1.pdf', 'page': 10}, page_content='ultraviolet  (UV)  rays,  visible  light,  infrared  rays,  microwaves,  radio  waves  etc. Of all the energy  received \\nby earth: UV, visible and infrared portions  constitute over 95 per cent.  The harmful UV radiation  is \\nprevented  from reaching  earth  by the ozone layer.  The solar radiation  which ultimately reaches the earth  \\ncomprises mainly of visible light , which is composed of seven colours . While travelling through the \\natmosphere,  a portion  of the radiation  energy  is reflected  by clouds , and some  are scattered  and absorbed  \\nby gases and particles . The scattered radiation  that reaches earth  is called diffuse radiation.  Only a small \\nquantity of the scattered radiation (22 per cent) reaches earth’s surface.  \\n \\nOutgoing  Solar  radiation  \\n \\n \\nIf the entire energy that is received from sun retained in its earth’s surface, the planet  would be very hot  \\nand would  become  an inhabitable  place . The earth , after heating  up of its surface,  reflects  a certain  amount \\nof energy . Some  of this heat energy  is transmitted  to the upper  layers  of air through  conduction . The heat \\nenergy so emitted from the earth’s surface is in the form of long wave radiation , and is called outgoing \\nradiation . While a portion of the outgoing radiation is absorbed by certain gases  in the atmosphere and \\nretained  as heat energy  and the remaining  energy  escapes  into the outer  space.  Gases  capable  of absorbing  \\noutgoing  radiation  are carbon  dioxide,  carbon  monoxide,  water  vapour , etc. They  are called  Green  House \\nGases (GHG).  Due to the effect of Greenhouse gases , Earth is prevented  from cooling down  drastically. \\nGHGS  thus act like a blanket  and provide  earth with an ideal climate for life to flourish . This known as \\nGreenhouse effect . The intensity  of Greenhouse effect varies  from place to place depending upon the \\nconcentration  of GHGS.  For instance,  the quantity of  vapour -and carbon  dioxide  is less in dry places  like \\ndeserts. The usage of carbon dioxide and the release of oxygen  is high in places were like forests  where \\ntrees are in abundance.  \\n \\nWEATHER  \\n \\n \\nWhen  radiation  from  insolation  strikes  earth,  its top layer  gets heated . The heat energy  so created  through \\nthe interplay of insolation and outgoing radiation  is transferred to the overlying atmosphere through \\nactivities like conduction and convection . Due to this, as well as the movement of earth , air moves  in all \\ndirections -both horizontally and vertically . This movement of air  is the basis of weather . Weather is the \\natmospheric  conditions  that exist  for a short  duration  which  can span over few hours  to a number  of days.  \\nWeather  conditions  can fluctuate  very often.  The average  weather  or atmospheric  conditions  over a fairly \\nlong period of time like  months, years or even decades; in a particular area is called climate .'),\n",
       " Document(metadata={'source': 'data/dm1.pdf', 'page': 11}, page_content='TEMPERATURE  \\n \\n \\nTemperature  is the index  of heat that is sensible . It indicates  the kinetic  energy  of molecules,  or the speed \\nat which  the molecules  move.  While  in air and water , molecules  keep  on moving  and change  their location \\nvery often and in solids the molecules involve in a vibration  movement and not moving . The speed  at \\nwhich this vibration takes place  is described as temperature . A body having higher temperature  has the \\nproperty of transmitting  it to another one having lower temperature . Temperature is measured using \\nthermometer , and is reported  in either  Celsius,  Kelvin  or Fahrenheit  scales.  The earth’s  temperature  varies \\nin an altitudinal and horizontal manner  in the troposphere  \\n \\nAltitudinal  Variation  \\n \\n \\nIn the troposphere, temperature decreases with height . It decreases at a rate of -6.4°C/km. This rate at \\nwhich temperature decreases with height is called lapse rate . The lapse rate is not uniform  and it varies  \\ndue to different conditions like pollution  in the atmosphere.  \\n \\nHorizontal  Temperature Variation  \\n \\n \\nTemperature varies at different times of the day  at different locations  due to various reasons and factors. \\nIt also varies at different months and seasons of the year. A few reasons for this variation are :  \\n(a) The hour  of the day: \\n \\nMore solar energy  is received during the noon , when sun’s rays strike vertically overhead ; than hours in \\nthe morning hours , when the rays strike at angles.  \\n(b) Insolation:  \\n \\nThe phenomenon of day and night  occurs as a result of the revolution and rotation of earth . Due to \\nrevolution one half of the globe  is exposed  to sunlight  and the other half  is in darkness . The temperature  \\nof any given  area is based  on the insolation  of that area.  The length  of daylight  and the angle  at which  the \\nrays fall on earth also determine the amount of insolation and the temperature of that particular area.  \\n(c) Distance  from  the Equator:'),\n",
       " Document(metadata={'source': 'data/dm1.pdf', 'page': 12}, page_content='The sun rays strike  in perpendicular  manner  on the equator . Near  to the poles  it strikes  at an angle . Due to \\nthis, areas  farther  away  from  equator  will experience  lesser  temperature  as compared  to the areas  near the \\nequator.  \\n \\n(d) The tilt of the axis:  \\nThe earth’s axis is tilted at angle of 66½ degrees  to the plane of the ecliptic. This tilt is maintained \\nthroughout its orbit . This tilting of the axis leads to seasonal variations. Due to this, the months closer to \\nJune are summer  months  in this hemisphere.  During  this period,  the northern  hemisphere  receives  greater  \\namount of solar energy , and hence, higher temperature . Places near to the equator receive more solar \\nenergy resulting in higher temperature.  \\n \\n(e) Distance  from  the Equator:  \\n \\nThe heating  of earth’s  surface  differs  according  to the type of the surface  in an area.  For instance,  rocky  \\nsurfaces  get heated  rapidly,  while  water  takes  considerably  long time to get heated  up. In the same  way, \\nrocky  surfaces  loose  heat rapidly  as against  water  which  loose  heat slowly.  In any given  place,  different \\ntypes of surfaces exist. Hence, there will be a mixture of heating and cooling properties.  \\n \\n \\nCYCLONES  \\n \\n \\nThe atmospheric pressure  in a given area has an important role to play with respect to the formation of a \\ncyclone. When a flow of air  moves along curved isobars  which is a net centripetal acceleration pulls  it \\ntoward the centre of a curvature , making the air to rotate.  Such wind (called gradient wind) is called \\ncyclone . If the movement  of the gradient  wind  is in the anticlockwise  direction  in the northern  hemisphere . \\nIt is called cyclone and anticyclone in southern hemisphere . \\n \\nDuring  a cyclone , the surface  air moves  towards  the centre  having  low pressure  and hence  converges . The \\nconverged air has the property of ascending in the centre within the low -pressure area. The reverse \\nhappens  in a high-pressure  area. Air tends  to sink in the centre  of a high-pressure  area during  anticyclones .'),\n",
       " Document(metadata={'source': 'data/dm1.pdf', 'page': 13}, page_content='ATMOSPHERIC  CIRCULATIONS  \\n \\nWhen Earth rotates on its axis , the rotation causes the deflection in the wind flow  due to Coriolis force.  \\nCoriolis  force  is a force  which  is produced  due to the rotation  of the earth . In addition  to this, a low- \\npressure  belt is formed  over the tropical  regions , since  the equatorial  region  is heated  throughout  the year. \\nThis belt is called the Inter -Tropical Convergent Zone (ITCZ ). This zone is also known as doldrums.  \\nThis is not a conspicuous belt, but a discontinuous  one that fluctuates  in its position  and intensity . Even \\nwith disruptions  like weather  fronts  and storms , there  is a consistent  pattern  to how air moves  around  our \\nplanet’s atmosphere. This pattern, called atmospheric circulation . \\n \\nThis is caused because the Sun heats the Earth more at the equator  than at the poles . It’s also affected by \\nthe spin of the Earth. In the tropics, near the equator , warm air rises . When it gets about 10-15 km  (6-9 \\nmiles)  above  the Earth  surface  it starts  to flow away  from  the equator  and towards  the poles . Air that rose \\njust north  of the equator flows north . Air that rose just south  of the equator flows south . When the air \\ncools , it drops  back  to the ground , flows  back  towards  the Equator,  and warm  again . Now  the warmed  air \\nrises again, and the pattern repeats . This pattern, known as convection , happens on a global scale. It also \\nhappens on a small scale within individual storms.'),\n",
       " Document(metadata={'source': 'data/dm1.pdf', 'page': 14}, page_content='The Indian  Monsoon  \\n \\nMonsoon is a regional wind that blows towards land  at a certain season  and blow from the landmasses  \\nduring  other  season.  These  wind  blows  in the opposite  direction  in summer  and winter . Though  monsoon \\nwinds blow over all parts of the world, it is well -developed over India and the South -east Asian regions. \\nThe Indian subcontinent has two types of winds.  \\n \\n1. South -West  Monsoon  \\n2. North -East  Monsoon  \\n \\n \\nSouth -West  Monsoon  \\n \\nThe south -east trade  winds  originate  from  the southern  hemisphere  in the Indian  Ocean . When  these  winds \\ncross  the equator , they get deflected  towards  the right  by the Coriolis  force , becoming  the south -west trade \\nwinds. These winds gather large quantities of moisture  as they pass over the Indian Ocean.  \\n \\nAs the SW monsoon winds approaches  the Indian Peninsula , they are diverted  into two -the Arabian Sea  \\nBranch and the Bay of Bengal  Branch. When the moisture laden Arabian Sea  branch reaches  the south - \\nwestern  side of India, they are blocked by the Western Ghats . When the mountain range blocks  the \\nhorizontal flow,  the wind  ascends along the slope of the mountain range , gets cooled down  and form \\nclouds . These  clouds  then result  in precipitation . Kerala  gets the south -west monsoon  mostly  during  early \\nJune every  year.  These  winds  then take a west turn and continue  their journey,  and spread  over the northern \\nparts  of India bringing in rains to these areas. Monsoon winds normally reach Delhi  in the first week of \\nJuly and could last till end September/early October . \\n \\nNorth -East  Monsoon  \\n \\nSince North -East winds originate  mainly from the land masses of the north -east region of India, they are \\nrelatively  dry. When  these  winds  pass over the Bay Bengal  towards  south,  they gather  moisture  and cause \\nrainfalls  over parts  of Odisha,  Andhra  Pradesh  and Tamil  Nadu.  Cyclone  formation  is common  over Bay \\nof Bengal  during  the north -east monsoon  season.  The cyclones  also bring  in abundant  rainfall  over Odisha, \\nAndhra Pradesh, Telangana and Tamil Nadu.'),\n",
       " Document(metadata={'source': 'data/dm1.pdf', 'page': 15}, page_content='HYDROSPHERE  \\n \\nHydrosphere forms over 70 per cent  of the earth’s surface. In terms of area, it comes to 3,62,000 km2. \\nWater  is found in the oceans  as well as on land. Life is made possible  on earth due to the availability of \\nwater. The hydrosphere has a direct influence on weather and climate  conditions on Earth. This occurs \\ndue to the important role played by the worldwide oceanic circulations . The average depth of oceans is \\naround  3.7 km. The floor  of the oceans  has mountain  ranges  and valleys,  isolated  volcanic  peaks , and vast \\nplains.  Many  of these  mountain  ranges  and valleys  exceed  in size of their counterparts  on land.  As on date \\nless than 10 per cent of the ocean floor has been surveyed.  \\n \\nOCEANS  \\n \\nWater in oceans is saline  in nature. This salinity occurs due to the dissolved materials (mainly salts ) \\ncontained  in it. The mean  salinity  of sea water  is around  34.7 g/kg. The lowest  value  being  33 and highest \\nbeing  36 g/kg. Though  sea water  contains  a mixture  of several  dissociated  salts,  NaCl  is the most  important \\none. Additional  salts are always  added  to the oceans  through  various  processes.  However,  seawater  salinity \\nis stable due to various mechanisms  that remove salt from the oceans . Salt is spread to the atmosphere  \\nwhen  wind  blows  sprays  of sea water.  The salt particles  in the atmosphere  enable  water  molecules  to stick  \\nto it, and this falls on the land with rain and snow . \\n \\na) Oceans  as moderator  of climate  \\n \\nWater  in oceans is constantly in movement  in regular patterns  due to the activity of winds . These \\nmovements of water in  oceans are called ocean circulations or ocean currents . These currents arise due \\nto the interplay  of wind  and water.  Oceans  as Moderator  of Climate  Oceanic  circulations  have  a profound \\nand significant influence in heating up the globe , and hence, its climate. When water moves up from the \\ncolder  and deeper  parts  of the ocean  to the warmer  surface , the heat is carried  with it. Due to the interplay \\nof various factors, the ocean water moves around the glo be, and with it the heat or cold is transferred . \\nThis heat transfer  plays  a major  role in impacting  earth’s  climate . When  extremes  of incidents,  like rainfall \\nor droughts  occur,  the normal  path of the ocean  current  can be disturbed  and climate  change  could  occur.  \\n \\nb) Oceans  as Heat  Reservoir  \\n \\nOceans play a role of a heat reservoir , moderating extreme temperatures . The water in the upper portion  \\nof oceans store higher  heat than in the entire atmosphere. During spring and summer  seasons, the  oceans'),\n",
       " Document(metadata={'source': 'data/dm1.pdf', 'page': 16}, page_content='are cooler  than the nearby lands. During winters  oceans are warmer  than the land masses. Due to this \\ntemperature difference  in sea and land, there is heat energy transfer from land to water a nd vice -versa.  \\n \\nc) Oceans  as Carbon  Reservoir  \\n \\nThe oceans  are the largest  carbon  reservoirs  of earth.  Periodically  it gives  off large  amounts  of carbon  into \\nthe atmosphere . Through  certain  biological  and chemical  exchange  processes  it plays  an important  role in \\ncarbon cycle.  \\n \\nd) Oceans  and Sea Ice \\n \\nThe sea ice  plays an important element in the Earth’s climate system, The polar ice  extends between 17 \\nand 27 million  km2,  depending  on the seasons.  It covers  around  one-tenth  of the land area and 6.5 per cent \\nof the oceans. Of the total ice, about 90 per cent is located in the Antarctic  as ice shelf. nine per cent in \\nthe Greenland  ice sheet  and the balance  in the various  glaciers  around  the world.  It is estimated  that if all \\nthe ice in Greenland  and Antarctica  is to suddenly  melt,  the sea would  rise to an approximate  height  of 70 \\nm. \\n \\nWATER  ON LAND  \\n \\nFresh water constitutes the basis for life  on land. On land, water is found in all the three states. In liquid \\nform . the water  is found  in lakes,  rivers  and streams  and also as ground  water  and soil moisture . The water \\nfound in these sources is fresh  in nature. In solid form  water is found as glacial ice, ice caps and ground \\nice. The fresh water in earth is perpetually being interchanged between the surface of the earth and \\natmosphere by a process of evaporation  and precipitation . This interchange is known as water cycle or \\nhydrological  cycle . In the hydrological  cycle,  solar  energy  causes  water  from  the oceans  to evaporate  and \\nchange to atmosphere vapour . Evaporation  also takes place from inland water bodies like lakes, rivers, \\nstreams, etc.  The evaporated water rises to the upper layers  of the atmosphere, where it is cooled and \\ncondensed . The condensed water falls back  to the earth as precipitated form . Rain, snow and dew  are \\ndifferent forms  of precipitation . The water that falls on the earth runs along the ground and flows  into \\nrivers  and in turn returns to the sea . A part of the rainwater that falls on the land drip into the ground is \\nknown as ground water . The ground water is used by human beings  and plants.'),\n",
       " Document(metadata={'source': 'data/dm1.pdf', 'page': 17}, page_content='BIOSPHERE  \\n \\nBiosphere is an important realm of Earth. The totality of life on earth and its interdependenc y on abiotic  \\nenvironmental factors. Biosphere consists of the complex interdependency between biotic and abiotic  \\nenvironmental components. Basically, biosphere is a thin envelop that encircles most of the earth , and \\nsupports life. It is the global sphere in which the biota interacts with lithosphere, atmosphere and \\nhydrosphere.  It is totally dependent on, and involves complex interactions between the atmosphere, \\nhydrosphere, and lithosphere. Biosphere is the spherical terrestrial layer that comprises of the lower part \\nof the atmosphere. the seas and the upper layers of the soil  wherein living organisms exist naturally . All \\nforms or life including human beings’ dwell in biosphere . The health  of the biosphere is determined by \\nthe availability of oxygen, moisture, temperature, air pressure and soil.  \\n \\nCOMPONENTS  OF BIOSPHERE  \\n \\nBiosphere  is a giant  ecosystem  that consists  of two major  ecosystems:  \\n \\n(a) Terrestrial  ecosystem  \\n \\n(b) Aquatic  ecosystem  \\n \\na) Terrestrial  ecosystem  \\n \\nThe terrestrial ecosystem consists of plants, animals, microorganisms  their dependencies and \\ninterdependencies with the non -living items around it on the land. A terrestrial ecosystem is made up of \\neither natural ecosystem or artificial/man -made ecosystem . \\n \\nb) Aquatic  ecosystem  \\n \\nAquatic ecosystem consists of marine and fresh water ecosystem . While seas and oceans form the \\nmarine  ecosystem;  the rivers,  pond,  lakes,  and wetlands  form  fresh  water  ecosystem.  Aquatic  ecosystems \\nprovide  human  beings  with a wide  range  of services.  Some  of the services  include  the availability  of water \\nfor day to day uses, foods like fish and crustaceans, breaking down: of chemical and organic wastes , \\nrecreation, etc. The aquatic ecosystem provides the human beings with a wealth of natural resources.'),\n",
       " Document(metadata={'source': 'data/dm1.pdf', 'page': 18}, page_content='DISASTER  MANAGEMENT  \\n \\nA sudden  occurrence  of an accident  that causes  huge  loss of life and property  is called  as a disaster . It is \\nalso called  as a calamity . Disaster  is an event  or series  of events , which  gives  rise to casualties  & damage  \\nor loss of properties,  infrastructures,  environment,  essential  services  or means  of livelihood  on such a scale  \\nwhich is beyond the normal capacity  of the affected community to cope with.  \\n \\nDisaster is  a result from  the combination of hazard, vulnerability &  insufficient capacity  or measures to \\nreduce the potential chances of risk. A disaster happens  when a hazard impacts on the vulnerable \\npopulation  and causes damage, casualties and disruption . For e.g.: earthquake  in an uninhabited desert  \\ncannot  be considered  a disaster , no matter  how strong  the intensities  produced.  An earthquake  is disastrous  \\nonly when it affects people, their properties & activities . Thus, disaster occurs only when hazards and \\nvulnerability meet.  \\n \\nTypes  of Disasters  \\n \\na) Natural  Disaster  \\nA disaster  caused  by natural  factor  is called  as a natural  disaster. \\nE.g.: Earthquake, flood, cyclone etc.  \\n \\nb) Man -made  disaster  \\nA disaster caused due to the human activities. \\nE.g.:  Wars,  fire accidents,  industrial  accidents  etc. \\n \\n \\nHAZARD  \\n \\nA hazard can be defined as a potentially damaging physical event,  social and economic disruption  or \\nenvironmental degradation . Typical examples of hazards can be absence of rain  (leading to drought) or \\nthe abundance thereof (leading to floods ). Chemical manufacturing plants  near settlements and incorrect \\nagricultural  techniques,  can also been  seen as hazards  which  could  lead to possible  disasters.  Hazards  can \\nbe the creation of man or the environment .'),\n",
       " Document(metadata={'source': 'data/dm1.pdf', 'page': 19}, page_content='Natural hazards  \\n \\nNatural  hazards  are hazards  which  are caused  because  of natural  phenomena  (hazards  with meteorological, \\ngeological  or even  biological  origin).  Examples  of natural  hazards  are cyclones,  tsunamis,  earthquake  and \\nvolcanic eruption which are exclusively of natural origin.  \\nLandslides,  floods,  drought,  fires are socio‐natural  hazards  since  their causes  are both natural  and \\nmanmade.  \\n \\n \\nManmade  hazards  \\n \\nManmade  hazards  are hazards  which  are due to human  negligence . Manmade  hazards  are associated  with \\nindustries or energy generation facilities  and include explosions, leakage of toxic waste , pollution, dam \\nfailure, wars or civil strife etc.  \\n \\nEXPOSURE  \\n \\nExposure refers to people, property, systems , or other elements present in hazard zones that are thereby \\nsubject to potential losses . Vulnerability: Vulnerability  refers to the characteristics and circumstances of \\na community,  system  or asset  that make  it susceptible  to the damaging  effects  of a hazard.  There  are many \\naspects of vulnerability, arising from various physical, social, economic, and environmental factors. \\nExamples  may include  poor design  and construction  of buildings , inadequate  protection  of assets , lack of \\npublic information and awareness, limited official recognition of risks and preparedness measures . \\n \\nRISK  \\n \\n \\nRisk is a “ measure of the expected losses  due to a hazard event occurring in a given area over a specific \\ntime period.  Risk is a function of  the probability  of particular  hazardous event  and the  losses  each would \\ncause.”'),\n",
       " Document(metadata={'source': 'data/dm1.pdf', 'page': 20}, page_content='The level  of risk depends upon:  \\n▪ Nature  of the hazard  \\n▪ Vulnerability  of the elements  which  are affected  \\n▪ Economic  value  of those  elements  \\n \\nA community/locality is said to be at ‘risk’  when it is exposed to hazards  and is likely to be adversely \\naffected by its impact . Risk can be calculated using the following equation.  \\n \\nRisk = Probability  of Hazard  x Degree  of Vulnerability.  \\n \\n \\nThere  are different  ways  of dealing  with risk, such as: \\na) Risk  Acceptance  means  an informed  decision  to accept  the possible  consequences  and likelihood \\nof a particular risk.  \\nb) Risk  Avoidance  is an informed  decision  to avoid  involvement  in activities  leading  to risk \\nrealization.  \\nc) Risk  Reduction  refers  to the application  of appropriate  techniques  to reduce  the likelihood  of risk \\noccurrence and its consequences.  \\nd) Risk Transfer involves shifting of the burden of risk  to another party. One of the most common \\nforms of risk transfer is Insurance . \\n \\nRisk  Assessment  \\n \\nA risk assessment is a process to identify potential hazards  and analyze what could happen  if a hazard \\noccurs. Disaster risk assessments include: the identification of hazards ; a review of the technical  \\ncharacteristics  of hazards such as their location, intensity, frequency and probability ; the analysis of \\nexposure and vulnerability,  including the physical, social, health, environmental and economic \\ndimensions; and the evaluation of the effectiveness  of prevailing and alternative coping  capacities with \\nrespect to likely risk scenarios.  \\n \\nRisk  Mapping  \\n \\nRisk mapping is a process of analyzing the hazard , vulnerability  and capacity  through a scientific \\nmethodology.  The process of risk map preparation includes analysis of several variables and parameters \\nwhich  are sub-sets of base categories ; hazard,  vulnerability  and capacity . Hence,  preparation  of multi'),\n",
       " Document(metadata={'source': 'data/dm1.pdf', 'page': 21}, page_content='hazard  risk map is a combination  of all risk elements  on several  hazards.  This process  is important  in risk \\nmap preparation and obviously in disaster management field for appropriate implementation of disaster \\nrisk reduction activities.  \\n \\nElements  at risk during/after  disaster  are: \\n• People  \\n• Livestock  \\n• Rural  housing  stock  \\n• Houses  \\n• Crops,  trees,  telephone,  electric  poles  \\n• Boats,  looms,  working  implements  \\n• Personal  property  \\n• Electricity,  water  and food supplies  \\n• Infrastructure  support  \\n \\n \\nDisaster  Risk  Reduction  \\n \\nDisaster risk reduction involves structural and non -structural measures . Structural  measures include the \\nuse of physical  or engineering  solutions  (such  as ocean  wave  barriers  or earthquake  resistant  buildings ) to \\navoid disaster or reduce its impacts. Non-structural  measures  involve the use of policies, laws, education \\nand awareness creation, and practices to avoid or reduce the impacts  of disaster.  \\n \\n \\n \\n \\nCAPACITY  \\n \\nCapacity  refers  to all the strengths,  attributes  and resources  available  within  a community , organization  or \\nsociety  to manage  and reduce  disaster  risks  and strengthen  resilience.  It is important  to emphasize  people’s \\ncapacity to anticipate, cope with, resist and recover  from disasters, rather than simply focusing on the \\nvulnerability that limits them. The classifications are:  \\na) Physical  Capacity  \\nPeople whose houses have been destroyed  by the cyclone or crops have been destroyed  by the \\nflood  can salvage  things  from  their homes  and from  their farms.  Some  family  members  have  skills, \\nwhich enable them to find employment if they migrate , either temporarily or permanently.'),\n",
       " Document(metadata={'source': 'data/dm1.pdf', 'page': 22}, page_content='b) Socio‐economic  Capacity  \\nRich  people  have  the capacity  to recover  soon  because  of their wealth . In fact, they are seldom  hit \\nby disasters because they live in safe  areas and their houses are built with stronger materials. \\nHowever, even when everything is destroyed, they have the capacity to cope up with  it. \\nHazards are always prevalent, but the hazard becomes a disaster only when there is greater vulnerability \\nand less of capacity to cope with it. In other words the frequency or likelihood of a hazard and the \\nvulnerability of the community increases the risk of being severely affected.  \\n \\nMITIGATION  \\n \\nMitigation  embraces  measures  taken  to reduce  both the effect  of the hazard  and the vulnerable  conditions \\nto it in order  to reduce  the scale  of a future  disaster . Therefore,  mitigation  activities  can be focused  on the \\nhazard itself or the elements exposed to the threat. Examples of mitigation measures which are hazard \\nspecific  include  water  management  in drought  prone  areas , relocating  people  away  from  the hazard  prone \\nareas  and by strengthening  structures  to reduce  damage  when  a hazard  occurs.  In addition  to these  physical \\nmeasures, mitigation should also aim at reducing the economic and social vulnerabilities of potential \\ndisasters.  \\n \\na) Structural  mitigation:  Dams,  windbreaks,  terracing,  hazard  resistant  buildings.  \\nb) Non-structural  mitigation:  Education  programs  and policies,  e.g., land-use, zoning,  crop \\ndiversification, building codes, forecasting and warning.  \\n \\nDISASTER  RESILIENCE  \\n \\nDisaster resilience is the ability of individuals, communities, organisations and states to adapt to and \\nrecover from hazards, shocks or stresses without compromising long -term prospects for development . \\nDisaster  resilience  is determined  by the degree  to which  individuals,  communities  and public  and private \\norganisations are capable of organizing themselves to learn from past disasters  and reduce their risks to \\nfuture  ones, at international, regional, national and local levels.  \\n \\nThe core elements  of disaster  resilience  are as follows:  \\na) Context : It deals with whose resilience  is being built such as a social group, socio -economic or \\npolitical system, environmental context or institution.  \\nb) Disturbance : These  disturbances  take two forms  Stresses  and Shocks .'),\n",
       " Document(metadata={'source': 'data/dm1.pdf', 'page': 23}, page_content='c) Capacity  To Respond : The ability  of a system  or process  to deal with a shock  or stress  depends  on \\nsensitivity and adaptive  capacity. Sensitivity  is the degree to which a system will be affected by, \\nor will respond to,  a given shock or stress. This can vary considerably for  different factors within \\na system.  For example,  women  accounted  for up to 80% of those  who died during  the 2004  Indian \\nOcean tsunami, and death rates among women were almost four times higher than those among \\nmen in the 1991 Bangladesh cyclone. Limited mobility, skills set and social status exacerbated \\nsensitivity  to the shock.  Adaptive  capacity  means  how well the system  can adjust  to a disturbance \\nor moderate damag e, take advantage of opportunities and cope with the consequences of a \\ntransformation.  \\nd)  Reaction : A range of responses are possible,  including: bounce back better, where  capacities  are \\nenhanced, exposures are reduced,  and the system is more able to deal with future shocks  and \\nstresses; bounce back, where pre‐ existing conditions prevail ; or recover , but worse than before, \\nmeaning capacities are reduced. In the worst‐case scenario, the system collapses, leading to a \\ncatastrophic reduction in capacity to cope with the future.  \\n \\n \\n \\nShocks  \\n \\nShocks are sudden events that impact on the vulnerability of the system  and its components. There are \\nmany different types of disaster -related shocks  that can strike at different levels. These include disease \\noutbreaks, weather -related and geophysical events including floods, high winds, landslides, droughts  or \\nearthquakes.  There  can also be conflict -related  shock  such as outbreaks  of fighting  or violence , or shocks \\nrelated to economic volatility.  \\n \\nStresses  \\n \\nStresses are long-term trends that undermine  the potential of a given system or process and increase the \\nvulnerability. These can include natural resource degradation, loss of agricultural production, \\nurbanisation, demographic changes, climate change, political instability  and economic decline.'),\n",
       " Document(metadata={'source': 'data/dm1.pdf', 'page': 24}, page_content='EARLY  WARNING  SYSTEM  (EWS)  \\n \\nEWS  is a socio -technical  system  designed  to generate  and circulate  meaningful  warning  information  in a \\ntimely manner  to enable a target  system take a proactive response  to a hazardous threat  in order to avoid  \\ndisaster  or reduce its impacts. The term ‘ socio -technical’  because an early warning system comprises all \\nthe steps  from  detection  of the threat , through  communication  to target  community  or people,  to the ability \\nof the target to understand and respond appropriately to the warning . \\n \\nDisaster  Preparedness  \\n \\nIt consists of the knowledge and capacities of institutions , communities and individuals to effectively \\nanticipate, respond to, and recover from the impacts of likely , imminent or active hazard events or \\nconditions. Disaster Prevention: Disaster Prevention  is the elimination or reduction  of the likelihood of \\noccurrence of natural hazard event , or their adverse impacts. Examples of disaster prevention actions \\ninclude flood protection  embankments. Disaster Mitigation : It refers to a set of measures to reduce or \\nneutralise the impact of natural hazards  by reducing social, functional, or physical vulnerability.  \\n \\nDisaster  Response  \\n \\nDisaster response (relief) is the provision of assistance or intervention through the emergency services \\nduring or immediately after a crisis in order to save lives , reduce further impacts on health and public \\nsafety  and to meet the basic subsistence  needs of affected populations.  \\n \\n \\nDAMAGE  ASSESSMENT  \\n \\nDamage Assessment is the process for determining the nature and extent of the loss , suffering, and/or \\nharm to the community resulting from a natural, accidental or human -caused disaster. Damages are \\nnormally classified as:  \\n \\na) Severe : The target facility  or object cannot  be used  for its intended purpose.  Complete \\nreconstruction is required.  \\nb) Moderate : The target facility or object cannot be used effectively for its intended purpose unless \\nmajor repairs are made.'),\n",
       " Document(metadata={'source': 'data/dm1.pdf', 'page': 25}, page_content='c) Light : The target facility or object can be used for intended purpose but minor repairs would be \\nnecessary.  \\n \\nEMERGENCY  \\n \\nEmergency is a disruption of the functioning of society, causing human, material or environmental \\ndamages and losses which do not exceed the ability of the affected society to cope using only its own \\nresources. Emergency is a situation in which normal operations cannot continue and immediate action is \\nrequired  so as to prevent  a disaster . Example  – forest  fire, oil spills,  road accidents,  outbreak  of epidemi cs \\netc. \\n \\nWhen an emergency or a disaster affect a city or a region, efforts are conducted initially to care for the \\nwounded,  to restore  lifelines  and basic  services,  and subsequently  to restore  livelihoods  and to reconstruct \\ncommunities. Such efforts can be structured in three phases:  \\n(i) Response phase : where activities such as search & rescue, rapid damage and needs \\nassessments, and the provision of first aid are conducted;  followed by the opening and \\nmanagement of temporary shelters  for those left homeless as well as the provision of \\nhumanitarian assistance to those affected.  \\n(ii) Rehabilitation phase : where basic services and lifelines are restored , even on a temporary  \\nbasis,  including  the road network  and other  essential  facilities  including  bridges,  airports,  ports \\nand helicopter landing sites.  \\n(iii) Recovery phase : where reconstruction efforts are carried out on the basis of a more precise \\nassessment of damage and destruction of infrastructure . In addition, efforts are conducted to \\nreconstruct infrastructure when needed and to restore the livelihoods of those affected.  \\n \\nCRISIS  COUNSELLING  \\n \\nCrisis counselling is the process of alleviating the emotional and psychological disturbances  of persons \\naffected by disaster in order to restore a sense of control and mastery  and to aid the process of recovery \\nand reconstruction. Normally, disasters overwhelm the physical and psychological capacity of people to \\ncope. This can lead to emotional and psychological disturbances which can affect a person’s ability to \\nmake  right  decisions  or adopt  reasonable  responsive  actions . Crisis  counselling  addresses  these  problems \\nand is a crucial part of recovery and reconstruction .'),\n",
       " Document(metadata={'source': 'data/dm1.pdf', 'page': 26}, page_content='NEEDS  ASSESSMENT  \\n \\nNeeds assessment is a process of estimating the financial, technical, and human resources needed to \\nimplement  the agreed -upon  programmes  of recovery,  reconstruction,  and risk management . Post-damage \\nneeds assessment  is normally a rapid, multi -sectoral assessment  that measures the impact of disasters on \\nthe society, economy, and environment of the disaster -affected areas.  \\n \\n \\n \\nDISASTER  MANAGEMENT  CYCLE  \\n \\nDisaster  Risk Management  includes  sum total of all activities,  programs  and measures  which  can be taken \\nup before, during and after a disaster  with the purpose to avoid a disaster , reduce its impact  or recover \\nfrom its losses.  \\n \\nThe steps  involved  in Disaster  management  Cycle  \\n \\n \\nThe different  approaches  involved  are: \\na) Before  A Disaster  (Pre-Disaster):  \\nActivities  taken  to reduce  human  and property  losses  caused  by a potential  hazard . E.g.:  Carrying \\nout awareness campaigns, strengthening the existing weak structures, preparation of the disaster \\nmanagement plans at household and community level etc. Such risk reduction measures taken \\nunder this stage are termed as mitigation and preparedness activities.  \\nb) During  A Disaster  (Disaster  Occurrence) : \\nInitiatives taken to ensure that the needs and provisions of victims are met and suffering is \\nminimized.  Activities taken in this stage are called emergency response activities.'),\n",
       " Document(metadata={'source': 'data/dm1.pdf', 'page': 27}, page_content='c) After  A Disaster  (Post -Disaster) : \\nInitiatives taken in response to a disaster with a purpose to achieve early recovery and \\nrehabilitation of affected communities,  immediately after a disaster strikes. These are called as \\nresponse and recovery activities.')]"
      ]
     },
     "execution_count": 21,
     "metadata": {},
     "output_type": "execute_result"
    }
   ],
   "source": [
    "from langchain_community.document_loaders import PyPDFLoader\n",
    "\n",
    "loader = PyPDFLoader(\"data/dm1.pdf\")\n",
    "pages = loader.load_and_split()\n",
    "\n",
    "pages"
   ]
  },
  {
   "cell_type": "code",
   "execution_count": 22,
   "metadata": {},
   "outputs": [
    {
     "data": {
      "text/plain": [
       "'\\nAnswer the question based on the context below. If you can\\'t answer the question, reply \"I\\'m not sure\".\\n\\nContext : Here is some context\\n\\nQuestion: Here is a question\\n'"
      ]
     },
     "execution_count": 22,
     "metadata": {},
     "output_type": "execute_result"
    }
   ],
   "source": [
    "from langchain.prompts import PromptTemplate\n",
    "\n",
    "template = \"\"\"\n",
    "Answer the question based on the context below. If you can't answer the question, reply \"I'm not sure\".\n",
    "\n",
    "Context : {context}\n",
    "\n",
    "Question: {question}\n",
    "\"\"\"\n",
    "\n",
    "prompt = PromptTemplate.from_template(template)\n",
    "prompt.format(context = \"Here is some context\", question=\"Here is a question\")"
   ]
  },
  {
   "cell_type": "code",
   "execution_count": 23,
   "metadata": {},
   "outputs": [],
   "source": [
    "chain = prompt | model "
   ]
  },
  {
   "cell_type": "code",
   "execution_count": 24,
   "metadata": {},
   "outputs": [
    {
     "data": {
      "text/plain": [
       "{'title': 'PromptInput',\n",
       " 'type': 'object',\n",
       " 'properties': {'context': {'title': 'Context', 'type': 'string'},\n",
       "  'question': {'title': 'Question', 'type': 'string'}},\n",
       " 'required': ['context', 'question']}"
      ]
     },
     "execution_count": 24,
     "metadata": {},
     "output_type": "execute_result"
    }
   ],
   "source": [
    "chain.input_schema.schema()"
   ]
  },
  {
   "cell_type": "code",
   "execution_count": 25,
   "metadata": {},
   "outputs": [
    {
     "name": "stderr",
     "output_type": "stream",
     "text": [
      "DEBUG:urllib3.connectionpool:Starting new HTTP connection (1): localhost:11434\n",
      "DEBUG:urllib3.connectionpool:http://localhost:11434 \"POST /api/generate HTTP/11\" 200 None\n"
     ]
    },
    {
     "data": {
      "text/plain": [
       "'San \\n'"
      ]
     },
     "execution_count": 25,
     "metadata": {},
     "output_type": "execute_result"
    }
   ],
   "source": [
    "chain.invoke(\n",
    "    {\n",
    "        \"context\": \"The name I was given was San\",\n",
    "        \"question\": \"What is my name?\"\n",
    "    }\n",
    ")"
   ]
  },
  {
   "cell_type": "code",
   "execution_count": 26,
   "metadata": {},
   "outputs": [
    {
     "name": "stderr",
     "output_type": "stream",
     "text": [
      "INFO - docarray - DB config created\n",
      "INFO:docarray:DB config created\n",
      "INFO - docarray - Runtime config created\n",
      "INFO:docarray:Runtime config created\n",
      "INFO - docarray - No docs or index file provided. Initializing empty InMemoryExactNNIndex.\n",
      "INFO:docarray:No docs or index file provided. Initializing empty InMemoryExactNNIndex.\n",
      "DEBUG:urllib3.connectionpool:Starting new HTTP connection (1): localhost:11434\n",
      "DEBUG:urllib3.connectionpool:http://localhost:11434 \"POST /api/embeddings HTTP/11\" 200 None\n",
      "DEBUG:urllib3.connectionpool:Starting new HTTP connection (1): localhost:11434\n",
      "DEBUG:urllib3.connectionpool:http://localhost:11434 \"POST /api/embeddings HTTP/11\" 200 None\n",
      "DEBUG:urllib3.connectionpool:Starting new HTTP connection (1): localhost:11434\n",
      "DEBUG:urllib3.connectionpool:http://localhost:11434 \"POST /api/embeddings HTTP/11\" 200 None\n",
      "DEBUG:urllib3.connectionpool:Starting new HTTP connection (1): localhost:11434\n",
      "DEBUG:urllib3.connectionpool:http://localhost:11434 \"POST /api/embeddings HTTP/11\" 200 None\n",
      "DEBUG:urllib3.connectionpool:Starting new HTTP connection (1): localhost:11434\n",
      "DEBUG:urllib3.connectionpool:http://localhost:11434 \"POST /api/embeddings HTTP/11\" 200 None\n",
      "DEBUG:urllib3.connectionpool:Starting new HTTP connection (1): localhost:11434\n",
      "DEBUG:urllib3.connectionpool:http://localhost:11434 \"POST /api/embeddings HTTP/11\" 200 None\n",
      "DEBUG:urllib3.connectionpool:Starting new HTTP connection (1): localhost:11434\n",
      "DEBUG:urllib3.connectionpool:http://localhost:11434 \"POST /api/embeddings HTTP/11\" 200 None\n",
      "DEBUG:urllib3.connectionpool:Starting new HTTP connection (1): localhost:11434\n",
      "DEBUG:urllib3.connectionpool:http://localhost:11434 \"POST /api/embeddings HTTP/11\" 200 None\n",
      "DEBUG:urllib3.connectionpool:Starting new HTTP connection (1): localhost:11434\n",
      "DEBUG:urllib3.connectionpool:http://localhost:11434 \"POST /api/embeddings HTTP/11\" 200 None\n",
      "DEBUG:urllib3.connectionpool:Starting new HTTP connection (1): localhost:11434\n",
      "DEBUG:urllib3.connectionpool:http://localhost:11434 \"POST /api/embeddings HTTP/11\" 200 None\n",
      "DEBUG:urllib3.connectionpool:Starting new HTTP connection (1): localhost:11434\n",
      "DEBUG:urllib3.connectionpool:http://localhost:11434 \"POST /api/embeddings HTTP/11\" 200 None\n",
      "DEBUG:urllib3.connectionpool:Starting new HTTP connection (1): localhost:11434\n",
      "DEBUG:urllib3.connectionpool:http://localhost:11434 \"POST /api/embeddings HTTP/11\" 200 None\n",
      "DEBUG:urllib3.connectionpool:Starting new HTTP connection (1): localhost:11434\n",
      "DEBUG:urllib3.connectionpool:http://localhost:11434 \"POST /api/embeddings HTTP/11\" 200 None\n",
      "DEBUG:urllib3.connectionpool:Starting new HTTP connection (1): localhost:11434\n",
      "DEBUG:urllib3.connectionpool:http://localhost:11434 \"POST /api/embeddings HTTP/11\" 200 None\n",
      "DEBUG:urllib3.connectionpool:Starting new HTTP connection (1): localhost:11434\n",
      "DEBUG:urllib3.connectionpool:http://localhost:11434 \"POST /api/embeddings HTTP/11\" 200 None\n",
      "DEBUG:urllib3.connectionpool:Starting new HTTP connection (1): localhost:11434\n",
      "DEBUG:urllib3.connectionpool:http://localhost:11434 \"POST /api/embeddings HTTP/11\" 200 None\n",
      "DEBUG:urllib3.connectionpool:Starting new HTTP connection (1): localhost:11434\n",
      "DEBUG:urllib3.connectionpool:http://localhost:11434 \"POST /api/embeddings HTTP/11\" 200 None\n",
      "DEBUG:urllib3.connectionpool:Starting new HTTP connection (1): localhost:11434\n",
      "DEBUG:urllib3.connectionpool:http://localhost:11434 \"POST /api/embeddings HTTP/11\" 200 None\n",
      "DEBUG:urllib3.connectionpool:Starting new HTTP connection (1): localhost:11434\n",
      "DEBUG:urllib3.connectionpool:http://localhost:11434 \"POST /api/embeddings HTTP/11\" 200 None\n",
      "DEBUG:urllib3.connectionpool:Starting new HTTP connection (1): localhost:11434\n",
      "DEBUG:urllib3.connectionpool:http://localhost:11434 \"POST /api/embeddings HTTP/11\" 200 None\n",
      "DEBUG:urllib3.connectionpool:Starting new HTTP connection (1): localhost:11434\n",
      "DEBUG:urllib3.connectionpool:http://localhost:11434 \"POST /api/embeddings HTTP/11\" 200 None\n",
      "DEBUG:urllib3.connectionpool:Starting new HTTP connection (1): localhost:11434\n",
      "DEBUG:urllib3.connectionpool:http://localhost:11434 \"POST /api/embeddings HTTP/11\" 200 None\n",
      "DEBUG:urllib3.connectionpool:Starting new HTTP connection (1): localhost:11434\n",
      "DEBUG:urllib3.connectionpool:http://localhost:11434 \"POST /api/embeddings HTTP/11\" 200 None\n",
      "DEBUG:urllib3.connectionpool:Starting new HTTP connection (1): localhost:11434\n",
      "DEBUG:urllib3.connectionpool:http://localhost:11434 \"POST /api/embeddings HTTP/11\" 200 None\n",
      "DEBUG:urllib3.connectionpool:Starting new HTTP connection (1): localhost:11434\n",
      "DEBUG:urllib3.connectionpool:http://localhost:11434 \"POST /api/embeddings HTTP/11\" 200 None\n",
      "DEBUG:urllib3.connectionpool:Starting new HTTP connection (1): localhost:11434\n",
      "DEBUG:urllib3.connectionpool:http://localhost:11434 \"POST /api/embeddings HTTP/11\" 200 None\n",
      "DEBUG:urllib3.connectionpool:Starting new HTTP connection (1): localhost:11434\n",
      "DEBUG:urllib3.connectionpool:http://localhost:11434 \"POST /api/embeddings HTTP/11\" 200 None\n",
      "DEBUG:urllib3.connectionpool:Starting new HTTP connection (1): localhost:11434\n",
      "DEBUG:urllib3.connectionpool:http://localhost:11434 \"POST /api/embeddings HTTP/11\" 200 None\n"
     ]
    }
   ],
   "source": [
    "from langchain_community.vectorstores import DocArrayInMemorySearch\n",
    "\n",
    "vectorstore = DocArrayInMemorySearch.from_documents(\n",
    "    pages, \n",
    "    embedding=embeddings\n",
    ")"
   ]
  },
  {
   "cell_type": "code",
   "execution_count": 27,
   "metadata": {},
   "outputs": [
    {
     "name": "stderr",
     "output_type": "stream",
     "text": [
      "DEBUG:langchain_core.vectorstores.base:The embeddings property has not been implemented for DocArrayInMemorySearch\n",
      "DEBUG:langchain_core.vectorstores.base:The embeddings property has not been implemented for DocArrayInMemorySearch\n",
      "DEBUG:urllib3.connectionpool:Starting new HTTP connection (1): localhost:11434\n",
      "DEBUG:urllib3.connectionpool:http://localhost:11434 \"POST /api/embeddings HTTP/11\" 200 None\n",
      "DEBUG - docarray - Executing `find` for search field embedding\n",
      "DEBUG:docarray:Executing `find` for search field embedding\n"
     ]
    },
    {
     "data": {
      "text/plain": [
       "[Document(metadata={'source': 'data/dm1.pdf', 'page': 26}, page_content='NEEDS  ASSESSMENT  \\n \\nNeeds assessment is a process of estimating the financial, technical, and human resources needed to \\nimplement  the agreed -upon  programmes  of recovery,  reconstruction,  and risk management . Post-damage \\nneeds assessment  is normally a rapid, multi -sectoral assessment  that measures the impact of disasters on \\nthe society, economy, and environment of the disaster -affected areas.  \\n \\n \\n \\nDISASTER  MANAGEMENT  CYCLE  \\n \\nDisaster  Risk Management  includes  sum total of all activities,  programs  and measures  which  can be taken \\nup before, during and after a disaster  with the purpose to avoid a disaster , reduce its impact  or recover \\nfrom its losses.  \\n \\nThe steps  involved  in Disaster  management  Cycle  \\n \\n \\nThe different  approaches  involved  are: \\na) Before  A Disaster  (Pre-Disaster):  \\nActivities  taken  to reduce  human  and property  losses  caused  by a potential  hazard . E.g.:  Carrying \\nout awareness campaigns, strengthening the existing weak structures, preparation of the disaster \\nmanagement plans at household and community level etc. Such risk reduction measures taken \\nunder this stage are termed as mitigation and preparedness activities.  \\nb) During  A Disaster  (Disaster  Occurrence) : \\nInitiatives taken to ensure that the needs and provisions of victims are met and suffering is \\nminimized.  Activities taken in this stage are called emergency response activities.'),\n",
       " Document(metadata={'source': 'data/dm1.pdf', 'page': 27}, page_content='c) After  A Disaster  (Post -Disaster) : \\nInitiatives taken in response to a disaster with a purpose to achieve early recovery and \\nrehabilitation of affected communities,  immediately after a disaster strikes. These are called as \\nresponse and recovery activities.'),\n",
       " Document(metadata={'source': 'data/dm1.pdf', 'page': 21}, page_content='hazard  risk map is a combination  of all risk elements  on several  hazards.  This process  is important  in risk \\nmap preparation and obviously in disaster management field for appropriate implementation of disaster \\nrisk reduction activities.  \\n \\nElements  at risk during/after  disaster  are: \\n• People  \\n• Livestock  \\n• Rural  housing  stock  \\n• Houses  \\n• Crops,  trees,  telephone,  electric  poles  \\n• Boats,  looms,  working  implements  \\n• Personal  property  \\n• Electricity,  water  and food supplies  \\n• Infrastructure  support  \\n \\n \\nDisaster  Risk  Reduction  \\n \\nDisaster risk reduction involves structural and non -structural measures . Structural  measures include the \\nuse of physical  or engineering  solutions  (such  as ocean  wave  barriers  or earthquake  resistant  buildings ) to \\navoid disaster or reduce its impacts. Non-structural  measures  involve the use of policies, laws, education \\nand awareness creation, and practices to avoid or reduce the impacts  of disaster.  \\n \\n \\n \\n \\nCAPACITY  \\n \\nCapacity  refers  to all the strengths,  attributes  and resources  available  within  a community , organization  or \\nsociety  to manage  and reduce  disaster  risks  and strengthen  resilience.  It is important  to emphasize  people’s \\ncapacity to anticipate, cope with, resist and recover  from disasters, rather than simply focusing on the \\nvulnerability that limits them. The classifications are:  \\na) Physical  Capacity  \\nPeople whose houses have been destroyed  by the cyclone or crops have been destroyed  by the \\nflood  can salvage  things  from  their homes  and from  their farms.  Some  family  members  have  skills, \\nwhich enable them to find employment if they migrate , either temporarily or permanently.'),\n",
       " Document(metadata={'source': 'data/dm1.pdf', 'page': 24}, page_content='EARLY  WARNING  SYSTEM  (EWS)  \\n \\nEWS  is a socio -technical  system  designed  to generate  and circulate  meaningful  warning  information  in a \\ntimely manner  to enable a target  system take a proactive response  to a hazardous threat  in order to avoid  \\ndisaster  or reduce its impacts. The term ‘ socio -technical’  because an early warning system comprises all \\nthe steps  from  detection  of the threat , through  communication  to target  community  or people,  to the ability \\nof the target to understand and respond appropriately to the warning . \\n \\nDisaster  Preparedness  \\n \\nIt consists of the knowledge and capacities of institutions , communities and individuals to effectively \\nanticipate, respond to, and recover from the impacts of likely , imminent or active hazard events or \\nconditions. Disaster Prevention: Disaster Prevention  is the elimination or reduction  of the likelihood of \\noccurrence of natural hazard event , or their adverse impacts. Examples of disaster prevention actions \\ninclude flood protection  embankments. Disaster Mitigation : It refers to a set of measures to reduce or \\nneutralise the impact of natural hazards  by reducing social, functional, or physical vulnerability.  \\n \\nDisaster  Response  \\n \\nDisaster response (relief) is the provision of assistance or intervention through the emergency services \\nduring or immediately after a crisis in order to save lives , reduce further impacts on health and public \\nsafety  and to meet the basic subsistence  needs of affected populations.  \\n \\n \\nDAMAGE  ASSESSMENT  \\n \\nDamage Assessment is the process for determining the nature and extent of the loss , suffering, and/or \\nharm to the community resulting from a natural, accidental or human -caused disaster. Damages are \\nnormally classified as:  \\n \\na) Severe : The target facility  or object cannot  be used  for its intended purpose.  Complete \\nreconstruction is required.  \\nb) Moderate : The target facility or object cannot be used effectively for its intended purpose unless \\nmajor repairs are made.')]"
      ]
     },
     "execution_count": 27,
     "metadata": {},
     "output_type": "execute_result"
    }
   ],
   "source": [
    "retriever = vectorstore.as_retriever()\n",
    "\n",
    "retriever.invoke(\"Disaster Management\")"
   ]
  },
  {
   "cell_type": "code",
   "execution_count": 28,
   "metadata": {},
   "outputs": [],
   "source": [
    "from operator import itemgetter\n",
    "\n",
    "chain = (\n",
    "    {\n",
    "        \"context\": itemgetter(\"question\") | retriever,\n",
    "        \"question\": itemgetter(\"question\"),\n",
    "    }\n",
    "    | prompt\n",
    "    | model\n",
    "    | parser\n",
    ")"
   ]
  },
  {
   "cell_type": "code",
   "execution_count": 30,
   "metadata": {},
   "outputs": [
    {
     "name": "stderr",
     "output_type": "stream",
     "text": [
      "DEBUG:langchain_core.vectorstores.base:The embeddings property has not been implemented for DocArrayInMemorySearch\n"
     ]
    },
    {
     "name": "stderr",
     "output_type": "stream",
     "text": [
      "DEBUG:urllib3.connectionpool:Starting new HTTP connection (1): localhost:11434\n",
      "DEBUG:urllib3.connectionpool:http://localhost:11434 \"POST /api/embeddings HTTP/11\" 200 None\n",
      "DEBUG - docarray - Executing `find` for search field embedding\n",
      "DEBUG:docarray:Executing `find` for search field embedding\n",
      "DEBUG:urllib3.connectionpool:Starting new HTTP connection (1): localhost:11434\n"
     ]
    }
   ],
   "source": [
    "print({chain.invoke({'question': \"what is disaster managment\"})})"
   ]
  },
  {
   "cell_type": "code",
   "execution_count": null,
   "metadata": {},
   "outputs": [],
   "source": []
  }
 ],
 "metadata": {
  "kernelspec": {
   "display_name": "venv",
   "language": "python",
   "name": "python3"
  },
  "language_info": {
   "codemirror_mode": {
    "name": "ipython",
    "version": 3
   },
   "file_extension": ".py",
   "mimetype": "text/x-python",
   "name": "python",
   "nbconvert_exporter": "python",
   "pygments_lexer": "ipython3",
   "version": "3.12.4"
  }
 },
 "nbformat": 4,
 "nbformat_minor": 2
}
